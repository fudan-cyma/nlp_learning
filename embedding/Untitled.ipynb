{
 "cells": [
  {
   "cell_type": "code",
   "execution_count": 22,
   "metadata": {
    "ExecuteTime": {
     "end_time": "2018-03-20T01:43:26.862292Z",
     "start_time": "2018-03-20T01:43:26.849202Z"
    }
   },
   "outputs": [],
   "source": [
    "import embedding_with_glove\n",
    "import plot\n",
    "from keras.models import Sequential, Model\n",
    "from keras.layers import Embedding, Flatten, Dense, SimpleRNN, LSTM, GRU, Input, Conv1D, MaxPooling1D, GlobalMaxPooling1D, Dropout"
   ]
  },
  {
   "cell_type": "code",
   "execution_count": 2,
   "metadata": {
    "ExecuteTime": {
     "end_time": "2018-03-20T01:04:55.640132Z",
     "start_time": "2018-03-20T01:04:55.632965Z"
    }
   },
   "outputs": [],
   "source": [
    "MAX_LEN = 100\n",
    "DIMENSION = 300\n",
    "MAX_WORDS = 10000\n",
    "TEST_SIZE = 0.1"
   ]
  },
  {
   "cell_type": "code",
   "execution_count": 68,
   "metadata": {
    "ExecuteTime": {
     "end_time": "2018-03-19T19:35:05.423003Z",
     "start_time": "2018-03-19T19:35:05.411351Z"
    }
   },
   "outputs": [],
   "source": [
    "def model():\n",
    "    model = Sequential()\n",
    "    model.add(Embedding(MAX_WORDS, DIMENSION, weights = [embedding_matrix], input_length = MAX_LEN, trainable = False))\n",
    "    model.add(Flatten())\n",
    "    model.add(Dense(32, activation = 'relu'))\n",
    "    model.add(Dense(1, activation = 'sigmoid'))\n",
    "    model.summary()\n",
    "    model.compile(optimizer = 'rmsprop', loss = 'binary_crossentropy', metrics = ['acc'])\n",
    "    history = model.fit(X_train, Y_train, epochs = 10, batch_size = 32, validation_data = (X_test, Y_test))\n",
    "    plot.plot(history)\n",
    "    return model"
   ]
  },
  {
   "cell_type": "code",
   "execution_count": 3,
   "metadata": {
    "ExecuteTime": {
     "end_time": "2018-03-20T01:06:44.423144Z",
     "start_time": "2018-03-20T01:04:59.444405Z"
    }
   },
   "outputs": [],
   "source": [
    "labels, texts = embedding_with_glove.load_text('/home/chloe/Downloads/imdb/train') \n",
    "texts_tokenized, word_index = embedding_with_glove.tokenize(texts)\n",
    "X_train, X_test, Y_train, Y_test = embedding_with_glove.split(texts_tokenized, labels)\n",
    "embedding_matrix = embedding_with_glove.embedding(word_index)"
   ]
  },
  {
   "cell_type": "code",
   "execution_count": 79,
   "metadata": {
    "ExecuteTime": {
     "end_time": "2018-03-20T00:58:16.488644Z",
     "start_time": "2018-03-20T00:49:13.962108Z"
    }
   },
   "outputs": [
    {
     "name": "stdout",
     "output_type": "stream",
     "text": [
      "_________________________________________________________________\n",
      "Layer (type)                 Output Shape              Param #   \n",
      "=================================================================\n",
      "embedding_32 (Embedding)     (None, 100, 300)          3000000   \n",
      "_________________________________________________________________\n",
      "gru_4 (GRU)                  (None, 256)               427776    \n",
      "_________________________________________________________________\n",
      "dense_26 (Dense)             (None, 1)                 257       \n",
      "=================================================================\n",
      "Total params: 3,428,033\n",
      "Trainable params: 428,033\n",
      "Non-trainable params: 3,000,000\n",
      "_________________________________________________________________\n",
      "Train on 22500 samples, validate on 2500 samples\n",
      "Epoch 1/10\n",
      "22500/22500 [==============================] - 55s 2ms/step - loss: 0.4590 - acc: 0.7750 - val_loss: 0.3398 - val_acc: 0.8464\n",
      "Epoch 2/10\n",
      "22500/22500 [==============================] - 56s 2ms/step - loss: 0.3392 - acc: 0.8487 - val_loss: 0.3217 - val_acc: 0.8584\n",
      "Epoch 3/10\n",
      "22500/22500 [==============================] - 56s 2ms/step - loss: 0.3031 - acc: 0.8696 - val_loss: 0.2987 - val_acc: 0.8704\n",
      "Epoch 4/10\n",
      "22500/22500 [==============================] - 54s 2ms/step - loss: 0.2727 - acc: 0.8832 - val_loss: 0.3123 - val_acc: 0.8692\n",
      "Epoch 5/10\n",
      "22500/22500 [==============================] - 54s 2ms/step - loss: 0.2429 - acc: 0.8967 - val_loss: 0.3020 - val_acc: 0.8752\n",
      "Epoch 6/10\n",
      "22500/22500 [==============================] - 54s 2ms/step - loss: 0.2181 - acc: 0.9115 - val_loss: 0.3383 - val_acc: 0.8664\n",
      "Epoch 7/10\n",
      "22500/22500 [==============================] - 54s 2ms/step - loss: 0.1946 - acc: 0.9226 - val_loss: 0.3126 - val_acc: 0.8768\n",
      "Epoch 8/10\n",
      "22500/22500 [==============================] - 53s 2ms/step - loss: 0.1715 - acc: 0.9300 - val_loss: 0.3133 - val_acc: 0.8836\n",
      "Epoch 9/10\n",
      "22500/22500 [==============================] - 53s 2ms/step - loss: 0.1501 - acc: 0.9417 - val_loss: 0.3388 - val_acc: 0.8792\n",
      "Epoch 10/10\n",
      "22500/22500 [==============================] - 54s 2ms/step - loss: 0.1335 - acc: 0.9478 - val_loss: 0.3554 - val_acc: 0.8800\n"
     ]
    },
    {
     "data": {
      "image/png": "[encoded data removed]",
      "text/plain": [
       "<matplotlib.figure.Figure at 0x7f7041f987f0>"
      ]
     },
     "metadata": {},
     "output_type": "display_data"
    }
   ],
   "source": [
    "dnn = model()"
   ]
  },
  {
   "cell_type": "code",
   "execution_count": 77,
   "metadata": {
    "ExecuteTime": {
     "end_time": "2018-03-19T20:00:01.147529Z",
     "start_time": "2018-03-19T20:00:01.136126Z"
    }
   },
   "outputs": [],
   "source": [
    "def model():\n",
    "    model = Sequential()\n",
    "    model.add(Embedding(MAX_WORDS, DIMENSION, weights = [embedding_matrix], input_length = MAX_LEN, trainable = False))\n",
    "    model.add(GRU(256, dropout = 0.1, recurrent_dropout = 0.5))\n",
    "    model.add(Dense(1, activation = 'sigmoid'))\n",
    "    model.summary()\n",
    "    model.compile(optimizer = 'rmsprop', loss = 'binary_crossentropy', metrics = ['acc'])\n",
    "    history = model.fit(X_train, Y_train, epochs = 10, batch_size = 32, validation_data = (X_test, Y_test))\n",
    "    plot.plot(history)\n",
    "    return model"
   ]
  },
  {
   "cell_type": "code",
   "execution_count": 13,
   "metadata": {
    "ExecuteTime": {
     "end_time": "2018-03-20T01:18:26.670293Z",
     "start_time": "2018-03-20T01:18:26.641513Z"
    }
   },
   "outputs": [],
   "source": [
    "def cnn_model():\n",
    "    model = Sequential()\n",
    "    model.add(Embedding(MAX_WORDS, DIMENSION, weights = [embedding_matrix], input_length = MAX_LEN, trainable = False))\n",
    "    model.add(Conv1D(256, 3, activation = 'relu'))\n",
    "    model.add(MaxPooling1D(pool_size=4))\n",
    "    model.add(Conv1D(256, 3, activation = 'relu'))\n",
    "    model.add(GlobalMaxPooling1D())\n",
    "    model.add(Dense(1, activation = 'sigmoid'))\n",
    "    model.summary()\n",
    "    \n",
    "    model.compile(optimizer = 'rmsprop', loss = 'binary_crossentropy', metrics = ['acc'])\n",
    "    history = model.fit(X_train, Y_train, epochs = 10, batch_size = 128, validation_data = (X_test, Y_test))\n",
    "    plot(history)\n"
   ]
  },
  {
   "cell_type": "code",
   "execution_count": null,
   "metadata": {},
   "outputs": [],
   "source": []
  },
  {
   "cell_type": "code",
   "execution_count": 14,
   "metadata": {
    "ExecuteTime": {
     "end_time": "2018-03-20T01:18:44.127126Z",
     "start_time": "2018-03-20T01:18:28.144123Z"
    }
   },
   "outputs": [
    {
     "name": "stdout",
     "output_type": "stream",
     "text": [
      "_________________________________________________________________\n",
      "Layer (type)                 Output Shape              Param #   \n",
      "=================================================================\n",
      "embedding_5 (Embedding)      (None, 100, 300)          3000000   \n",
      "_________________________________________________________________\n",
      "conv1d_9 (Conv1D)            (None, 98, 256)           230656    \n",
      "_________________________________________________________________\n",
      "max_pooling1d_5 (MaxPooling1 (None, 24, 256)           0         \n",
      "_________________________________________________________________\n",
      "conv1d_10 (Conv1D)           (None, 22, 256)           196864    \n",
      "_________________________________________________________________\n",
      "global_max_pooling1d_5 (Glob (None, 256)               0         \n",
      "_________________________________________________________________\n",
      "dense_5 (Dense)              (None, 1)                 257       \n",
      "=================================================================\n",
      "Total params: 3,427,777\n",
      "Trainable params: 427,777\n",
      "Non-trainable params: 3,000,000\n",
      "_________________________________________________________________\n",
      "Train on 22500 samples, validate on 2500 samples\n",
      "Epoch 1/10\n",
      "22500/22500 [==============================] - 2s 81us/step - loss: 0.5591 - acc: 0.7211 - val_loss: 0.5609 - val_acc: 0.7188\n",
      "Epoch 2/10\n",
      "22500/22500 [==============================] - 2s 73us/step - loss: 0.3923 - acc: 0.8213 - val_loss: 0.4281 - val_acc: 0.7956\n",
      "Epoch 3/10\n",
      "22500/22500 [==============================] - 2s 70us/step - loss: 0.3286 - acc: 0.8570 - val_loss: 0.3918 - val_acc: 0.8212\n",
      "Epoch 4/10\n",
      "22500/22500 [==============================] - 2s 68us/step - loss: 0.2680 - acc: 0.8872 - val_loss: 0.4019 - val_acc: 0.8284\n",
      "Epoch 5/10\n",
      "22500/22500 [==============================] - 2s 68us/step - loss: 0.2043 - acc: 0.9186 - val_loss: 0.4347 - val_acc: 0.8276\n",
      "Epoch 6/10\n",
      "22500/22500 [==============================] - 1s 66us/step - loss: 0.1499 - acc: 0.9413 - val_loss: 0.4800 - val_acc: 0.8140\n",
      "Epoch 7/10\n",
      "22500/22500 [==============================] - 1s 65us/step - loss: 0.1028 - acc: 0.9631 - val_loss: 0.5162 - val_acc: 0.8240\n",
      "Epoch 8/10\n",
      "22500/22500 [==============================] - 1s 66us/step - loss: 0.0747 - acc: 0.9740 - val_loss: 0.5934 - val_acc: 0.8276\n",
      "Epoch 9/10\n",
      "22500/22500 [==============================] - 1s 65us/step - loss: 0.0541 - acc: 0.9830 - val_loss: 0.6797 - val_acc: 0.8204\n",
      "Epoch 10/10\n",
      "22500/22500 [==============================] - 1s 66us/step - loss: 0.0449 - acc: 0.9857 - val_loss: 0.7056 - val_acc: 0.8244\n"
     ]
    },
    {
     "ename": "TypeError",
     "evalue": "'module' object is not callable",
     "output_type": "error",
     "traceback": [
      "\u001b[0;31m---------------------------------------------------------------------------\u001b[0m",
      "\u001b[0;31mTypeError\u001b[0m                                 Traceback (most recent call last)",
      "\u001b[0;32m<ipython-input-14-d8a3afb200bc>\u001b[0m in \u001b[0;36m<module>\u001b[0;34m()\u001b[0m\n\u001b[0;32m----> 1\u001b[0;31m \u001b[0mcnn_model\u001b[0m\u001b[0;34m(\u001b[0m\u001b[0;34m)\u001b[0m\u001b[0;34m\u001b[0m\u001b[0m\n\u001b[0m",
      "\u001b[0;32m<ipython-input-13-4e26fc4ba02d>\u001b[0m in \u001b[0;36mcnn_model\u001b[0;34m()\u001b[0m\n\u001b[1;32m     11\u001b[0m     \u001b[0mmodel\u001b[0m\u001b[0;34m.\u001b[0m\u001b[0mcompile\u001b[0m\u001b[0;34m(\u001b[0m\u001b[0moptimizer\u001b[0m \u001b[0;34m=\u001b[0m \u001b[0;34m'rmsprop'\u001b[0m\u001b[0;34m,\u001b[0m \u001b[0mloss\u001b[0m \u001b[0;34m=\u001b[0m \u001b[0;34m'binary_crossentropy'\u001b[0m\u001b[0;34m,\u001b[0m \u001b[0mmetrics\u001b[0m \u001b[0;34m=\u001b[0m \u001b[0;34m[\u001b[0m\u001b[0;34m'acc'\u001b[0m\u001b[0;34m]\u001b[0m\u001b[0;34m)\u001b[0m\u001b[0;34m\u001b[0m\u001b[0m\n\u001b[1;32m     12\u001b[0m     \u001b[0mhistory\u001b[0m \u001b[0;34m=\u001b[0m \u001b[0mmodel\u001b[0m\u001b[0;34m.\u001b[0m\u001b[0mfit\u001b[0m\u001b[0;34m(\u001b[0m\u001b[0mX_train\u001b[0m\u001b[0;34m,\u001b[0m \u001b[0mY_train\u001b[0m\u001b[0;34m,\u001b[0m \u001b[0mepochs\u001b[0m \u001b[0;34m=\u001b[0m \u001b[0;36m10\u001b[0m\u001b[0;34m,\u001b[0m \u001b[0mbatch_size\u001b[0m \u001b[0;34m=\u001b[0m \u001b[0;36m128\u001b[0m\u001b[0;34m,\u001b[0m \u001b[0mvalidation_data\u001b[0m \u001b[0;34m=\u001b[0m \u001b[0;34m(\u001b[0m\u001b[0mX_test\u001b[0m\u001b[0;34m,\u001b[0m \u001b[0mY_test\u001b[0m\u001b[0;34m)\u001b[0m\u001b[0;34m)\u001b[0m\u001b[0;34m\u001b[0m\u001b[0m\n\u001b[0;32m---> 13\u001b[0;31m     \u001b[0mplot\u001b[0m\u001b[0;34m(\u001b[0m\u001b[0mhistory\u001b[0m\u001b[0;34m)\u001b[0m\u001b[0;34m\u001b[0m\u001b[0m\n\u001b[0m",
      "\u001b[0;31mTypeError\u001b[0m: 'module' object is not callable"
     ]
    }
   ],
   "source": [
    "cnn_model()"
   ]
  },
  {
   "cell_type": "code",
   "execution_count": 23,
   "metadata": {
    "ExecuteTime": {
     "end_time": "2018-03-20T01:43:41.613226Z",
     "start_time": "2018-03-20T01:43:41.575508Z"
    }
   },
   "outputs": [],
   "source": [
    "def cnn_model_functional():\n",
    "    comment_input = Input(shape = (MAX_LEN, ), dtype = 'int32')\n",
    "    embedded_sequences = Embedding(MAX_WORDS, DIMENSION, weights = [embedding_matrix], input_length = MAX_LEN, trainable = False)(comment_input)\n",
    "    x = Conv1D(256, 3, activation = 'relu')(embedded_sequences)\n",
    "    x = MaxPooling1D(5)(x)\n",
    "    x = Dropout(0.2)(x)\n",
    "    x = Conv1D(64, 3, activation = 'relu')(x)\n",
    "    x = GlobalMaxPooling1D()(x)\n",
    "    pred = Dense(1, activation='sigmoid')(x)\n",
    "    \n",
    "    model = Model(inputs = [comment_input], outputs = pred)\n",
    "    model.compile(loss = 'binary_crossentropy', optimizer = 'rmsprop', metrics = ['acc'])\n",
    "    history = model.fit(X_train, Y_train, epochs = 10, batch_size = 128, validation_data = (X_test, Y_test))\n",
    "    plot.plot(history)\n",
    "    \n",
    "    "
   ]
  },
  {
   "cell_type": "code",
   "execution_count": null,
   "metadata": {
    "ExecuteTime": {
     "start_time": "2018-03-20T01:43:43.658Z"
    }
   },
   "outputs": [
    {
     "name": "stdout",
     "output_type": "stream",
     "text": [
      "Train on 22500 samples, validate on 2500 samples\n",
      "Epoch 1/10\n",
      "22500/22500 [==============================] - 2s 74us/step - loss: 0.5639 - acc: 0.7100 - val_loss: 0.5054 - val_acc: 0.7436\n",
      "Epoch 2/10\n",
      "17920/22500 [======================>.......] - ETA: 0s - loss: 0.4153 - acc: 0.8094"
     ]
    }
   ],
   "source": [
    "cnn_model_functional()"
   ]
  },
  {
   "cell_type": "code",
   "execution_count": null,
   "metadata": {},
   "outputs": [],
   "source": []
  }
 ],
 "metadata": {
  "kernelspec": {
   "display_name": "Python 3",
   "language": "python",
   "name": "python3"
  },
  "language_info": {
   "codemirror_mode": {
    "name": "ipython",
    "version": 3
   },
   "file_extension": ".py",
   "mimetype": "text/x-python",
   "name": "python",
   "nbconvert_exporter": "python",
   "pygments_lexer": "ipython3",
   "version": "3.6.4"
  }
 },
 "nbformat": 4,
 "nbformat_minor": 2
}
